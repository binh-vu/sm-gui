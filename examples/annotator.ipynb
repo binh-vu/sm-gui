{
 "cells": [
  {
   "cell_type": "code",
   "execution_count": 1,
   "metadata": {},
   "outputs": [],
   "source": [
    "import orjson\n",
    "from IPython.display import Javascript, display, HTML, JSON\n",
    "from ipycallback import SlowTunnelWidget\n",
    "from sm_widgets.models import *\n",
    "from sm_widgets.widgets.annotator import *\n",
    "from sm_widgets_integration.wikidata import *\n",
    "%load_ext autoreload\n",
    "%autoreload 2"
   ]
  },
  {
   "cell_type": "code",
   "execution_count": 2,
   "metadata": {},
   "outputs": [],
   "source": [
    "qnode_db = get_qnode_db('/workspace/sm-dev/data/tmp/qnode.db', proxy=True)\n",
    "wdclass_db = get_ontclass_db('/workspace/sm-dev/data/tmp/wdclass.db', proxy=True)\n",
    "wdprop_db = get_ontprop_db('/workspace/sm-dev/data/tmp/wdprop.db', proxy=True)"
   ]
  },
  {
   "cell_type": "code",
   "execution_count": 3,
   "metadata": {},
   "outputs": [],
   "source": [
    "tbl = Table.from_csv_file(\"/workspace/sm-dev/sm-gui/examples/tables/table_02.csv\")"
   ]
  },
  {
   "cell_type": "code",
   "execution_count": 4,
   "metadata": {},
   "outputs": [
    {
     "name": "stdout",
     "output_type": "stream",
     "text": [
      "/opt/conda/lib/python3.8/site-packages/sm_widgets/widgets/../../webapps/annotator/dist/main.js.gz\n"
     ]
    }
   ],
   "source": [
    "annotator = Annotator(qnode_db, wdclass_db, wdprop_db, 'http://www.wikidata.org/prop/P31',\n",
    "                      dev=True,\n",
    "                      savedir='', eshost='', embedded_error_log=True)"
   ]
  },
  {
   "cell_type": "code",
   "execution_count": 5,
   "metadata": {},
   "outputs": [
    {
     "data": {
      "application/vnd.jupyter.widget-view+json": {
       "model_id": "3dcd0a8994b14863b4953f63b14ae7be",
       "version_major": 2,
       "version_minor": 0
      },
      "text/plain": [
       "SlowTunnelWidget(js_endpoint=(0, ''), py_endpoint=(0, ''), tunnel_id='7a775d03-1005-4073-a3da-1fdced5e91df')"
      ]
     },
     "metadata": {},
     "output_type": "display_data"
    },
    {
     "data": {
      "application/vnd.jupyter.widget-view+json": {
       "model_id": "4606e6ee33294f3dac5bb4d4e0fc31d8",
       "version_major": 2,
       "version_minor": 0
      },
      "text/plain": [
       "Output()"
      ]
     },
     "metadata": {},
     "output_type": "display_data"
    },
    {
     "data": {
      "application/javascript": [
       "\n",
       "            \n",
       "    function repeatUntilSuccess(fn, timeout, maxTry) {\n",
       "        if (fn() === true) {\n",
       "            return;\n",
       "        }\n",
       "        if (maxTry === undefined) {\n",
       "            maxTry = 10;\n",
       "        }\n",
       "        if (maxTry === 0) {\n",
       "            console.error(\"Max retries error\");\n",
       "            alert(\"max retries error\");\n",
       "            throw new Error(\"Max retries error\");\n",
       "        } else {\n",
       "            setTimeout(function () {\n",
       "                repeatUntilSuccess(fn, timeout, maxTry - 1);\n",
       "            }, timeout);\n",
       "        }\n",
       "    }\n",
       "    \n",
       "            if (window.IPyApps === undefined) {\n",
       "                window.IPyApps = new Map();\n",
       "            }\n",
       "            \n",
       "            function setupApp3b492fc8d18f42a697f252c806c914a0() {\n",
       "                if (window.IPyCallback === undefined) {\n",
       "                    return false;\n",
       "                }\n",
       "                let tunnel = window.IPyCallback.get('7a775d03-1005-4073-a3da-1fdced5e91df');\n",
       "                if (tunnel === undefined) {\n",
       "                    return false;\n",
       "                }\n",
       "                let win = window.open(\"about:blank\", \"app-3b492fc8-d18f-42a6-97f2-52c806c914a0\");;\n",
       "            \n",
       "                let title = win.document.createElement(\"title\");\n",
       "                title.innerHTML = 'Annotator';\n",
       "                win.document.head.appendChild(title);\n",
       "                \n",
       "                let div = win.document.createElement(\"div\");\n",
       "                div.id = '3b492fc8-d18f-42a6-97f2-52c806c914a0';\n",
       "                win.document.body.appendChild(div);\n",
       "                win.document.body.style = \"padding: 8px 8px 0 8px;\";\n",
       "                \n",
       "                // use the tunnel first to send out the code, after the application is rendered, the listening function \n",
       "                // is going to be replaced by the listener in the application, so we don't have to worry.\n",
       "                tunnel.on_receive(function (version, msg) {\n",
       "                    let payload = JSON.parse(msg);\n",
       "                    if (payload.id !== '/init/download_code') {\n",
       "                        alert('invalid calling order. you need to set the source code first');\n",
       "                        console.error(\"invalid call order\", payload);\n",
       "                        return;\n",
       "                    }\n",
       "                    win.eval(payload.response);\n",
       "    \n",
       "                    let shadowDOM = false;\n",
       "                    win.Annotator.renderDevApp('3b492fc8-d18f-42a6-97f2-52c806c914a0', tunnel, undefined, shadowDOM);;\n",
       "                    window.IPyApps.set('3b492fc8-d18f-42a6-97f2-52c806c914a0', win);\n",
       "                    tunnel.send_msg(JSON.stringify({ url: '/init/done', params: null, id: '/init/done' }));\n",
       "                });\n",
       "                tunnel.send_msg(JSON.stringify({ url: '/init/download_code', params: null, id: '/init/download_code' }));\n",
       "                return true;\n",
       "            }\n",
       "            repeatUntilSuccess(setupApp3b492fc8d18f42a697f252c806c914a0, 50, 10);\n",
       "            "
      ],
      "text/plain": [
       "<IPython.core.display.Javascript object>"
      ]
     },
     "metadata": {},
     "output_type": "display_data"
    },
    {
     "data": {
      "text/plain": [
       "<sm_widgets.widgets.annotator.annotator.Annotator at 0x7fe8b827f100>"
      ]
     },
     "execution_count": 5,
     "metadata": {},
     "output_type": "execute_result"
    }
   ],
   "source": [
    "annotator.render(same_tab=False)"
   ]
  },
  {
   "cell_type": "code",
   "execution_count": 6,
   "metadata": {},
   "outputs": [],
   "source": [
    "import threading\n",
    "threading.Thread(\n",
    "    target=lambda: annotator.set_data('', tbl)\n",
    ").start()"
   ]
  },
  {
   "cell_type": "markdown",
   "metadata": {},
   "source": [
    "---\n",
    "Run the following code to dump the current history for debugging"
   ]
  },
  {
   "cell_type": "raw",
   "metadata": {},
   "source": [
    "tunnel = SlowTunnelWidget(tunnel_id=\"development\")\n",
    "display(tunnel)\n",
    "display(Javascript(f\"\"\"\n",
    "var msg = window.IPyApps.get('{annotator.app_id}').Annotator.recordTunnel.serialize();\n",
    "window.IPyCallback.get(\"development\").send_msg(msg);\n",
    "\"\"\"))"
   ]
  },
  {
   "cell_type": "raw",
   "metadata": {},
   "source": [
    "import time, json\n",
    "for i in range(5):\n",
    "    msg = tunnel.py_endpoint[1]\n",
    "    if msg == '':\n",
    "        print(\".\", end=\"\")\n",
    "        time.sleep(0.1)\n",
    "        continue\n",
    "        \n",
    "    with open(\"./webapps/annotator/src/replayDebugData.ts\", \"w\") as f:\n",
    "        f.write(\"export const history = \")\n",
    "        f.write(json.dumps(json.loads(msg), indent=4))"
   ]
  }
 ],
 "metadata": {
  "kernelspec": {
   "display_name": "Python 3",
   "language": "python",
   "name": "python3"
  },
  "language_info": {
   "codemirror_mode": {
    "name": "ipython",
    "version": 3
   },
   "file_extension": ".py",
   "mimetype": "text/x-python",
   "name": "python",
   "nbconvert_exporter": "python",
   "pygments_lexer": "ipython3",
   "version": "3.8.8"
  }
 },
 "nbformat": 4,
 "nbformat_minor": 4
}